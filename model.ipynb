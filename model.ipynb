{
 "cells": [
  {
   "cell_type": "code",
   "execution_count": 1,
   "id": "27c57f13-a760-45c0-af6a-02f6bc9685c1",
   "metadata": {},
   "outputs": [],
   "source": [
    "import os\n",
    "import pandas as pd\n",
    "from PIL import Image\n",
    "import numpy as np\n",
    "from tqdm import tqdm\n",
    "import cv2"
   ]
  },
  {
   "cell_type": "code",
   "execution_count": 2,
   "id": "9194b9fd-6583-4ba5-aa6c-492d41b39def",
   "metadata": {},
   "outputs": [],
   "source": [
    "train_df= pd.read_csv(\"train.csv\")\n",
    "bbox_df= pd.read_csv(\"bbox.csv\")"
   ]
  },
  {
   "cell_type": "code",
   "execution_count": 9,
   "id": "95dd4baa-ba66-4bfc-aa34-ff4ef4dbf17a",
   "metadata": {},
   "outputs": [
    {
     "name": "stderr",
     "output_type": "stream",
     "text": [
      "100%|████████████████████████████████████| 10233/10233 [01:13<00:00, 139.03it/s]\n",
      "100%|██████████████████████████████████████| 3963/3963 [00:27<00:00, 142.54it/s]\n"
     ]
    }
   ],
   "source": [
    "def preprocess_images(image_folder, output_folder, df, size=(224, 224)):\n",
    "    if not os.path.exists(output_folder):\n",
    "        os.makedirs(output_folder)\n",
    "\n",
    "    for i, row in tqdm(df.iterrows(), total=len(df)):\n",
    "        image_path = os.path.join(image_folder, row['Name'])\n",
    "        image = Image.open(image_path)\n",
    "        image = image.resize(size)\n",
    "        image = np.array(image) / 255.0  # Normalize pixel values\n",
    "        image = (image * 255).astype(np.uint8)  # Convert back to 8-bit values\n",
    "\n",
    "        output_path = os.path.join(output_folder, row['Name'])\n",
    "        cv2.imwrite(output_path, cv2.cvtColor(image, cv2.COLOR_RGB2BGR))\n",
    "\n",
    "# Preprocess training images\n",
    "preprocess_images('train', 'dataset/preprocessed/train', train_df)\n",
    "\n",
    "# Preprocess testing images (assuming you have a test.csv similar to train.csv)\n",
    "test_df = pd.read_csv('test.csv')\n",
    "preprocess_images('test', 'dataset/preprocessed/test', test_df)"
   ]
  },
  {
   "cell_type": "code",
   "execution_count": null,
   "id": "f54a4237-c96f-4772-9ea9-67b10af0a465",
   "metadata": {},
   "outputs": [],
   "source": [
    "def process_bounding_boxes(df, image_folder):\n",
    "    processed_boxes = {}\n",
    "    for _, row in tqdm(df.iterrows(), total=len(df)):\n",
    "        image_name = row['Name']\n",
    "        if image_name not in processed_boxes:\n",
    "            processed_boxes[image_name] = []\n",
    "        processed_boxes[image_name].append([row['xmin'], row['ymin'], row['xmax'], row['ymax']])\n",
    "\n",
    "    # Save or use the processed_boxes dictionary as needed\n",
    "    return processed_boxes\n",
    "\n",
    "bbox_dict = process_bounding_boxes(bbox_df, 'dataset/train')\n"
   ]
  }
 ],
 "metadata": {
  "kernelspec": {
   "display_name": "Python 3 (ipykernel)",
   "language": "python",
   "name": "python3"
  },
  "language_info": {
   "codemirror_mode": {
    "name": "ipython",
    "version": 3
   },
   "file_extension": ".py",
   "mimetype": "text/x-python",
   "name": "python",
   "nbconvert_exporter": "python",
   "pygments_lexer": "ipython3",
   "version": "3.11.5"
  }
 },
 "nbformat": 4,
 "nbformat_minor": 5
}
